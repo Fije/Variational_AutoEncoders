{
 "cells": [
  {
   "cell_type": "markdown",
   "metadata": {},
   "source": [
    "# Neural IBM1 - T2\n",
    "\n",
    "Neural IBM 1 with additional French context (Section 2.1 of the notebook)"
   ]
  },
  {
   "cell_type": "code",
   "execution_count": 1,
   "metadata": {
    "collapsed": false
   },
   "outputs": [],
   "source": [
    "# first run a few imports:\n",
    "%load_ext autoreload\n",
    "%autoreload 2\n",
    "import tensorflow as tf\n",
    "import numpy as np\n",
    "from pprint import pprint\n",
    "import pickle\n",
    "from utils import smart_reader, bitext_reader\n",
    "from vocabulary import OrderedCounter, Vocabulary \n",
    "from utils import iterate_minibatches, prepare_data\n"
   ]
  },
  {
   "cell_type": "markdown",
   "metadata": {},
   "source": [
    "### Loading data"
   ]
  },
  {
   "cell_type": "code",
   "execution_count": 2,
   "metadata": {
    "collapsed": true
   },
   "outputs": [],
   "source": [
    "# the paths to our training and validation data, English side\n",
    "train_e_path = 'data/training/hansards.36.2.e.gz'\n",
    "train_f_path = 'data/training/hansards.36.2.f.gz'\n",
    "dev_e_path = 'data/validation/dev.e.gz'\n",
    "dev_f_path = 'data/validation/dev.f.gz'\n",
    "dev_wa = 'data/validation/dev.wa.nonullalign'\n",
    "test_e_path = 'data/test/test.e.gz'\n",
    "test_f_path = 'data/test/test.f.gz'\n",
    "test_wa = 'data/test/test.wa.nonullalign'"
   ]
  },
  {
   "cell_type": "markdown",
   "metadata": {},
   "source": [
    "These are the vocabularies that we use further on."
   ]
  },
  {
   "cell_type": "code",
   "execution_count": 3,
   "metadata": {
    "collapsed": false
   },
   "outputs": [],
   "source": [
    "# Using only 1000 words will result in many UNKs, but\n",
    "# it will make training a lot faster. \n",
    "# If you have a fast computer, a GPU, or a lot of time,\n",
    "# try with 10000 instead.\n",
    "max_tokens=1000\n",
    "\n",
    "corpus_e = smart_reader(train_e_path)    \n",
    "vocabulary_e = Vocabulary(corpus=corpus_e, max_tokens=max_tokens)\n",
    "pickle.dump(vocabulary_e, open(\"vocabulary_e.pkl\", mode=\"wb\"))\n",
    "\n",
    "corpus_f = smart_reader(train_f_path)    \n",
    "vocabulary_f = Vocabulary(corpus=corpus_f, max_tokens=max_tokens)\n",
    "pickle.dump(vocabulary_f, open(\"vocabulary_f.pkl\", mode=\"wb\"))"
   ]
  },
  {
   "cell_type": "markdown",
   "metadata": {},
   "source": [
    "### Building our model\n",
    "\n",
    "We import the NeuralIBM1Model from T2.py and NeuralIBM1Trainer from T2trainer.py"
   ]
  },
  {
   "cell_type": "code",
   "execution_count": 26,
   "metadata": {
    "collapsed": false,
    "scrolled": false
   },
   "outputs": [],
   "source": [
    "from T2 import NeuralIBM1Model\n",
    "from T2trainer import NeuralIBM1Trainer"
   ]
  },
  {
   "cell_type": "markdown",
   "metadata": {},
   "source": [
    "###  2.1.1 Concatenation"
   ]
  },
  {
   "cell_type": "code",
   "execution_count": 24,
   "metadata": {
    "collapsed": false,
    "scrolled": false
   },
   "outputs": [
    {
     "name": "stdout",
     "output_type": "stream",
     "text": [
      "Training with B=10 max_length=30 lr=0.001 lr_decay=0.0\n",
      "Initializing variables..\n",
      "Training started..\n",
      "Shuffling training data\n",
      "Iter   100 loss 66.279526 accuracy 0.25 lr 0.001000\n",
      "Iter   200 loss 85.712296 accuracy 0.14 lr 0.001000\n",
      "Iter   300 loss 71.034897 accuracy 0.17 lr 0.001000\n",
      "Iter   400 loss 76.928810 accuracy 0.17 lr 0.001000\n",
      "Iter   500 loss 77.379112 accuracy 0.19 lr 0.001000\n",
      "Iter   600 loss 57.255604 accuracy 0.19 lr 0.001000\n",
      "Iter   700 loss 81.779129 accuracy 0.20 lr 0.001000\n",
      "Epoch 1 loss 62.817424 accuracy 0.20 val_aer 0.67 val_acc 0.11\n",
      "Computing training-set likelihood\n",
      "1\n",
      "2\n",
      "3\n",
      "4\n",
      "5\n",
      "6\n",
      "7\n",
      "Computing dev-set likelihood\n",
      "1\n",
      "Model saved in file: model.ckpt\n",
      "Shuffling training data\n",
      "Iter   100 loss 58.167236 accuracy 0.18 lr 0.001000\n",
      "Iter   200 loss 61.013542 accuracy 0.16 lr 0.001000\n",
      "Iter   300 loss 23.809025 accuracy 0.25 lr 0.001000\n",
      "Iter   400 loss 51.491039 accuracy 0.24 lr 0.001000\n",
      "Iter   500 loss 49.441051 accuracy 0.25 lr 0.001000\n",
      "Iter   600 loss 39.945232 accuracy 0.20 lr 0.001000\n",
      "Iter   700 loss 56.407623 accuracy 0.19 lr 0.001000\n",
      "Epoch 2 loss 50.520434 accuracy 0.21 val_aer 0.72 val_acc 0.19\n",
      "Computing training-set likelihood\n",
      "1\n",
      "2\n",
      "3\n",
      "4\n",
      "5\n",
      "6\n",
      "7\n",
      "Computing dev-set likelihood\n",
      "1\n",
      "Model saved in file: model.ckpt\n",
      "Shuffling training data\n",
      "Iter   100 loss 38.395050 accuracy 0.25 lr 0.001000\n",
      "Iter   200 loss 48.070873 accuracy 0.20 lr 0.001000\n",
      "Iter   300 loss 42.709938 accuracy 0.22 lr 0.001000\n",
      "Iter   400 loss 47.991608 accuracy 0.22 lr 0.001000\n",
      "Iter   500 loss 39.330299 accuracy 0.20 lr 0.001000\n",
      "Iter   600 loss 54.624420 accuracy 0.18 lr 0.001000\n",
      "Iter   700 loss 54.202290 accuracy 0.19 lr 0.001000\n",
      "Epoch 3 loss 42.791167 accuracy 0.21 val_aer 0.75 val_acc 0.19\n",
      "Computing training-set likelihood\n",
      "1\n",
      "2\n",
      "3\n",
      "4\n",
      "5\n",
      "6\n",
      "7\n",
      "Computing dev-set likelihood\n",
      "1\n",
      "Model saved in file: model.ckpt\n",
      "Shuffling training data\n",
      "Iter   100 loss 44.491631 accuracy 0.18 lr 0.001000\n",
      "Iter   200 loss 37.731930 accuracy 0.24 lr 0.001000\n",
      "Iter   300 loss 41.956902 accuracy 0.19 lr 0.001000\n",
      "Iter   400 loss 45.144440 accuracy 0.16 lr 0.001000\n",
      "Iter   500 loss 21.904995 accuracy 0.25 lr 0.001000\n",
      "Iter   600 loss 37.891533 accuracy 0.23 lr 0.001000\n",
      "Iter   700 loss 64.459183 accuracy 0.18 lr 0.001000\n",
      "Epoch 4 loss 40.229973 accuracy 0.21 val_aer 0.78 val_acc 0.19\n",
      "Computing training-set likelihood\n",
      "1\n",
      "2\n",
      "3\n",
      "4\n",
      "5\n",
      "6\n",
      "7\n",
      "Computing dev-set likelihood\n",
      "1\n",
      "Model saved in file: model.ckpt\n",
      "Shuffling training data\n",
      "Iter   100 loss 42.305614 accuracy 0.22 lr 0.001000\n",
      "Iter   200 loss 30.592556 accuracy 0.22 lr 0.001000\n",
      "Iter   300 loss 35.403660 accuracy 0.21 lr 0.001000\n",
      "Iter   400 loss 27.348110 accuracy 0.31 lr 0.001000\n",
      "Iter   500 loss 33.210419 accuracy 0.27 lr 0.001000\n",
      "Iter   600 loss 42.452324 accuracy 0.21 lr 0.001000\n",
      "Iter   700 loss 49.171776 accuracy 0.25 lr 0.001000\n",
      "Epoch 5 loss 39.584376 accuracy 0.21 val_aer 0.78 val_acc 0.19\n",
      "Computing training-set likelihood\n",
      "1\n",
      "2\n",
      "3\n",
      "4\n",
      "5\n",
      "6\n",
      "7\n",
      "Computing dev-set likelihood\n",
      "1\n",
      "Model saved in file: model.ckpt\n",
      "Shuffling training data\n",
      "Iter   100 loss 29.230536 accuracy 0.27 lr 0.001000\n",
      "Iter   200 loss 17.936298 accuracy 0.23 lr 0.001000\n",
      "Iter   300 loss 49.000534 accuracy 0.21 lr 0.001000\n",
      "Iter   400 loss 30.374805 accuracy 0.19 lr 0.001000\n",
      "Iter   500 loss 41.118843 accuracy 0.25 lr 0.001000\n",
      "Iter   600 loss 41.708000 accuracy 0.24 lr 0.001000\n",
      "Iter   700 loss 52.155701 accuracy 0.21 lr 0.001000\n",
      "Epoch 6 loss 39.270403 accuracy 0.21 val_aer 0.73 val_acc 0.19\n",
      "Computing training-set likelihood\n",
      "1\n",
      "2\n",
      "3\n",
      "4\n",
      "5\n",
      "6\n",
      "7\n",
      "Computing dev-set likelihood\n",
      "1\n",
      "Model saved in file: model.ckpt\n",
      "Shuffling training data\n",
      "Iter   100 loss 46.404831 accuracy 0.18 lr 0.001000\n",
      "Iter   200 loss 34.059593 accuracy 0.22 lr 0.001000\n",
      "Iter   300 loss 49.846210 accuracy 0.19 lr 0.001000\n",
      "Iter   400 loss 47.537018 accuracy 0.16 lr 0.001000\n",
      "Iter   500 loss 41.774097 accuracy 0.22 lr 0.001000\n",
      "Iter   600 loss 46.805325 accuracy 0.24 lr 0.001000\n",
      "Iter   700 loss 32.921547 accuracy 0.23 lr 0.001000\n",
      "Epoch 7 loss 38.978539 accuracy 0.21 val_aer 0.78 val_acc 0.19\n",
      "Computing training-set likelihood\n",
      "1\n",
      "2\n",
      "3\n",
      "4\n",
      "5\n",
      "6\n",
      "7\n",
      "Computing dev-set likelihood\n",
      "1\n",
      "Model saved in file: model.ckpt\n",
      "Shuffling training data\n",
      "Iter   100 loss 35.621231 accuracy 0.20 lr 0.001000\n",
      "Iter   200 loss 47.593727 accuracy 0.18 lr 0.001000\n",
      "Iter   300 loss 35.028721 accuracy 0.19 lr 0.001000\n",
      "Iter   400 loss 16.220732 accuracy 0.34 lr 0.001000\n",
      "Iter   500 loss 45.125843 accuracy 0.19 lr 0.001000\n",
      "Iter   600 loss 34.429008 accuracy 0.19 lr 0.001000\n",
      "Iter   700 loss 43.902874 accuracy 0.21 lr 0.001000\n",
      "Epoch 8 loss 38.711798 accuracy 0.21 val_aer 0.71 val_acc 0.19\n",
      "Computing training-set likelihood\n",
      "1\n",
      "2\n",
      "3\n",
      "4\n",
      "5\n",
      "6\n",
      "7\n",
      "Computing dev-set likelihood\n",
      "1\n",
      "Model saved in file: model.ckpt\n",
      "Shuffling training data\n",
      "Iter   100 loss 36.980762 accuracy 0.18 lr 0.001000\n",
      "Iter   200 loss 43.520279 accuracy 0.21 lr 0.001000\n",
      "Iter   300 loss 52.087440 accuracy 0.23 lr 0.001000\n",
      "Iter   400 loss 35.381519 accuracy 0.20 lr 0.001000\n",
      "Iter   500 loss 51.708107 accuracy 0.23 lr 0.001000\n",
      "Iter   600 loss 27.357626 accuracy 0.25 lr 0.001000\n",
      "Iter   700 loss 37.504356 accuracy 0.20 lr 0.001000\n",
      "Epoch 9 loss 38.474969 accuracy 0.21 val_aer 0.75 val_acc 0.19\n",
      "Computing training-set likelihood\n",
      "1\n",
      "2\n",
      "3\n",
      "4\n",
      "5\n",
      "6\n",
      "7\n",
      "Computing dev-set likelihood\n",
      "1\n",
      "Model saved in file: model.ckpt\n",
      "Shuffling training data\n",
      "Iter   100 loss 26.164759 accuracy 0.21 lr 0.001000\n",
      "Iter   200 loss 52.177826 accuracy 0.20 lr 0.001000\n",
      "Iter   300 loss 24.952854 accuracy 0.24 lr 0.001000\n",
      "Iter   400 loss 43.145630 accuracy 0.24 lr 0.001000\n",
      "Iter   500 loss 38.059002 accuracy 0.19 lr 0.001000\n",
      "Iter   600 loss 52.884972 accuracy 0.20 lr 0.001000\n",
      "Iter   700 loss 42.826092 accuracy 0.24 lr 0.001000\n",
      "Epoch 10 loss 38.259067 accuracy 0.21 val_aer 0.75 val_acc 0.19\n",
      "Computing training-set likelihood\n",
      "1\n",
      "2\n",
      "3\n",
      "4\n",
      "5\n",
      "6\n",
      "7\n",
      "Computing dev-set likelihood\n",
      "1\n",
      "Model saved in file: model.ckpt\n"
     ]
    }
   ],
   "source": [
    "tf.reset_default_graph()\n",
    "\n",
    "\n",
    "\n",
    "with tf.Session() as sess:\n",
    "\n",
    "    # some hyper-parameters\n",
    "    # tweak them as you wish\n",
    "    batch_size=10  # on CPU, use something much smaller e.g. 1-16\n",
    "    max_length=30\n",
    "    lr = 0.001\n",
    "    lr_decay = 0.0  # set to 0.0 when using Adam optimizer (default)\n",
    "    emb_dim = 64\n",
    "    mlp_dim = 128\n",
    "\n",
    "    # our model\n",
    "    model = NeuralIBM1Model(\n",
    "        x_vocabulary=vocabulary_e, y_vocabulary=vocabulary_f, \n",
    "        batch_size=batch_size, emb_dim=emb_dim, mlp_dim=mlp_dim, session=sess,\n",
    "        mode='concat')\n",
    "\n",
    "    # our trainer\n",
    "    trainer = NeuralIBM1Trainer(\n",
    "        model, train_e_path, train_f_path, \n",
    "        dev_e_path, dev_f_path, dev_wa,\n",
    "        test_e_path, test_f_path, test_wa,\n",
    "        num_epochs=10, batch_size=batch_size, \n",
    "        max_length=max_length, lr=lr, lr_decay=lr_decay, session=sess,\n",
    "        max_num=10000) # small training corpus just to make testing new code easier\n",
    "\n",
    "    # now first TF needs to initialize all the variables\n",
    "    print(\"Initializing variables..\")\n",
    "    sess.run(tf.global_variables_initializer())\n",
    "\n",
    "\n",
    "    # now we can start training!\n",
    "    print(\"Training started..\")\n",
    "    results = trainer.train()\n",
    "    dev_AERs, test_AERs, train_likelihoods, dev_likelihoods = results"
   ]
  },
  {
   "cell_type": "code",
   "execution_count": 25,
   "metadata": {
    "collapsed": false
   },
   "outputs": [
    {
     "data": {
      "image/png": "[encoded data removed]",
      "text/plain": [
       "<matplotlib.figure.Figure at 0x125de5278>"
      ]
     },
     "metadata": {},
     "output_type": "display_data"
    },
    {
     "data": {
      "image/png": "[encoded data removed]",
      "text/plain": [
       "<matplotlib.figure.Figure at 0x125ca6940>"
      ]
     },
     "metadata": {},
     "output_type": "display_data"
    },
    {
     "data": {
      "image/png": "[encoded data removed]",
      "text/plain": [
       "<matplotlib.figure.Figure at 0x1255a3b00>"
      ]
     },
     "metadata": {},
     "output_type": "display_data"
    }
   ],
   "source": [
    "# plotting\n",
    "import matplotlib.pyplot as plt\n",
    "\n",
    "handles = []\n",
    "ax1 = plt.plot(range(1, len(dev_AERs)+1), dev_AERs, label='dev-set')\n",
    "handles.extend(ax1)\n",
    "ax2 = plt.plot(range(1, len(test_AERs)+1), test_AERs, label='test-set')\n",
    "handles.extend(ax2)\n",
    "plt.legend(handles=handles)\n",
    "plt.xlabel('Epochs')\n",
    "plt.ylabel('AER')\n",
    "plt.show()\n",
    "plt.clf()\n",
    "\n",
    "handles = []\n",
    "ax1 = plt.plot(range(1, len(dev_likelihoods)+1), dev_likelihoods, label='dev-set')\n",
    "handles.extend(ax1)\n",
    "plt.legend(handles=handles)\n",
    "plt.xlabel('Epochs')\n",
    "plt.ylabel('log-likelihood')\n",
    "plt.show()\n",
    "plt.clf()\n",
    "\n",
    "handles = []\n",
    "ax1 = plt.plot(range(1, len(train_likelihoods)+1), train_likelihoods, label='training-set')\n",
    "handles.extend(ax1)\n",
    "plt.legend(handles=handles)\n",
    "plt.xlabel('Epochs')\n",
    "plt.ylabel('log-likelihood')\n",
    "plt.show()\n",
    "plt.clf()"
   ]
  },
  {
   "cell_type": "markdown",
   "metadata": {
    "collapsed": true
   },
   "source": [
    "### 2.1.2 Gate"
   ]
  },
  {
   "cell_type": "code",
   "execution_count": null,
   "metadata": {
    "collapsed": true
   },
   "outputs": [],
   "source": [
    "tf.reset_default_graph()\n",
    "\n",
    "\n",
    "\n",
    "with tf.Session() as sess:\n",
    "\n",
    "    # some hyper-parameters\n",
    "    # tweak them as you wish\n",
    "    batch_size=10  # on CPU, use something much smaller e.g. 1-16\n",
    "    max_length=30\n",
    "    lr = 0.001\n",
    "    lr_decay = 0.0  # set to 0.0 when using Adam optimizer (default)\n",
    "    emb_dim = 64\n",
    "    mlp_dim = 128\n",
    "\n",
    "    # our model\n",
    "    model = NeuralIBM1Model(\n",
    "        x_vocabulary=vocabulary_e, y_vocabulary=vocabulary_f, \n",
    "        batch_size=batch_size, emb_dim=emb_dim, mlp_dim=mlp_dim, session=sess,\n",
    "        mode='gate')\n",
    "\n",
    "    # our trainer\n",
    "    trainer = NeuralIBM1Trainer(\n",
    "        model, train_e_path, train_f_path, \n",
    "        dev_e_path, dev_f_path, dev_wa,\n",
    "        test_e_path, test_f_path, test_wa,\n",
    "        num_epochs=10, batch_size=batch_size, \n",
    "        max_length=max_length, lr=lr, lr_decay=lr_decay, session=sess,\n",
    "        max_num=10000) # small training corpus just to make testing new code easier\n",
    "\n",
    "    # now first TF needs to initialize all the variables\n",
    "    print(\"Initializing variables..\")\n",
    "    sess.run(tf.global_variables_initializer())\n",
    "\n",
    "\n",
    "    # now we can start training!\n",
    "    print(\"Training started..\")\n",
    "    results = trainer.train()\n",
    "    dev_AERs, test_AERs, train_likelihoods, dev_likelihoods = results"
   ]
  }
 ],
 "metadata": {
  "kernelspec": {
   "display_name": "Python 3",
   "language": "python",
   "name": "python3"
  },
  "language_info": {
   "codemirror_mode": {
    "name": "ipython",
    "version": 3
   },
   "file_extension": ".py",
   "mimetype": "text/x-python",
   "name": "python",
   "nbconvert_exporter": "python",
   "pygments_lexer": "ipython3",
   "version": "3.6.0"
  }
 },
 "nbformat": 4,
 "nbformat_minor": 1
}
