{
 "cells": [
  {
   "cell_type": "markdown",
   "metadata": {},
   "source": [
    "# T4: Neural IBM1 with collocations and latent gate\n",
    "\n",
    "Neural IBM 1 with additional stochastic collocations (Section 2.3 of the notebook).\n",
    "\n",
    "Here we made the collocation variable $s$ continuous. You can interpret $S$ as a random variable over gate values."
   ]
  },
  {
   "cell_type": "code",
   "execution_count": 64,
   "metadata": {
    "collapsed": false
   },
   "outputs": [
    {
     "name": "stdout",
     "output_type": "stream",
     "text": [
      "The autoreload extension is already loaded. To reload it, use:\n",
      "  %reload_ext autoreload\n"
     ]
    }
   ],
   "source": [
    "# first run a few imports:\n",
    "%load_ext autoreload\n",
    "%autoreload 2\n",
    "import tensorflow as tf\n",
    "import numpy as np\n",
    "from pprint import pprint\n",
    "import pickle\n",
    "from utils import smart_reader, bitext_reader\n",
    "from vocabulary import OrderedCounter, Vocabulary \n",
    "from utils import iterate_minibatches, prepare_data"
   ]
  },
  {
   "cell_type": "markdown",
   "metadata": {},
   "source": [
    "## Loading data"
   ]
  },
  {
   "cell_type": "code",
   "execution_count": 81,
   "metadata": {
    "collapsed": true
   },
   "outputs": [],
   "source": [
    "# the paths to our training and validation data, English side\n",
    "train_e_path = 'data/training/hansards.36.2.e.gz'\n",
    "train_f_path = 'data/training/hansards.36.2.f.gz'\n",
    "dev_e_path = 'data/validation/dev.e.gz'\n",
    "dev_f_path = 'data/validation/dev.f.gz'\n",
    "dev_wa = 'data/validation/dev.wa.nonullalign'\n",
    "test_e_path = 'data/test/test.e.gz'\n",
    "test_f_path = 'data/test/test.f.gz'\n",
    "test_wa = 'data/test/test.wa.nonullalign'"
   ]
  },
  {
   "cell_type": "markdown",
   "metadata": {},
   "source": [
    "These are the vocabularies that we use further on."
   ]
  },
  {
   "cell_type": "code",
   "execution_count": 82,
   "metadata": {
    "collapsed": false
   },
   "outputs": [],
   "source": [
    "# Using only 1000 words will result in many UNKs, but\n",
    "# it will make training a lot faster. \n",
    "# If you have a fast computer, a GPU, or a lot of time,\n",
    "# try with 10000 instead.\n",
    "max_tokens=1000\n",
    "\n",
    "corpus_e = smart_reader(train_e_path)    \n",
    "vocabulary_e = Vocabulary(corpus=corpus_e, max_tokens=max_tokens)\n",
    "pickle.dump(vocabulary_e, open(\"vocabulary_e.pkl\", mode=\"wb\"))\n",
    "\n",
    "corpus_f = smart_reader(train_f_path)    \n",
    "vocabulary_f = Vocabulary(corpus=corpus_f, max_tokens=max_tokens)\n",
    "pickle.dump(vocabulary_f, open(\"vocabulary_f.pkl\", mode=\"wb\"))"
   ]
  },
  {
   "cell_type": "markdown",
   "metadata": {},
   "source": [
    "## T4 model\n",
    "\n",
    "We import the NeuralIBM1Model from T4.py and NeuralIBM1Trainer from T4trainer.py"
   ]
  },
  {
   "cell_type": "code",
   "execution_count": 85,
   "metadata": {
    "collapsed": false,
    "scrolled": false
   },
   "outputs": [],
   "source": [
    "from T4 import VAE\n",
    "from T4trainer import VAETrainer"
   ]
  },
  {
   "cell_type": "code",
   "execution_count": 86,
   "metadata": {
    "collapsed": false,
    "scrolled": false
   },
   "outputs": [
    {
     "name": "stdout",
     "output_type": "stream",
     "text": [
      "Size: 1668\n",
      "Initializing variables..\n",
      "Training started..\n",
      "Epoch 1 epoch_loss 1398.9639916053186\n",
      "Computing training-set likelihood\n",
      "Computing dev-set likelihood\n",
      "Model saved in file: model.ckpt\n",
      "Epoch 2 epoch_loss 628.17213674692\n",
      "Computing training-set likelihood\n",
      "Computing dev-set likelihood\n",
      "Model saved in file: model.ckpt\n",
      "Epoch 3 epoch_loss 444.9261451134315\n",
      "Computing training-set likelihood\n",
      "Computing dev-set likelihood\n",
      "Model saved in file: model.ckpt\n",
      "Epoch 4 epoch_loss 372.7253230168269\n",
      "Computing training-set likelihood\n",
      "Computing dev-set likelihood\n",
      "Model saved in file: model.ckpt\n",
      "Epoch 5 epoch_loss 332.07383728027344\n",
      "Computing training-set likelihood\n",
      "Computing dev-set likelihood\n",
      "Model saved in file: model.ckpt\n",
      "Epoch 6 epoch_loss 306.56825197660004\n",
      "Computing training-set likelihood\n",
      "Computing dev-set likelihood\n",
      "Model saved in file: model.ckpt\n",
      "Epoch 7 epoch_loss 287.4197868934044\n",
      "Computing training-set likelihood\n",
      "Computing dev-set likelihood\n",
      "Model saved in file: model.ckpt\n",
      "Epoch 8 epoch_loss 273.32752110407904\n",
      "Computing training-set likelihood\n",
      "Computing dev-set likelihood\n",
      "Model saved in file: model.ckpt\n",
      "Epoch 9 epoch_loss 261.06751720721905\n",
      "Computing training-set likelihood\n",
      "Computing dev-set likelihood\n",
      "Model saved in file: model.ckpt\n",
      "Epoch 10 epoch_loss 252.20941925048828\n",
      "Computing training-set likelihood\n",
      "Computing dev-set likelihood\n",
      "Model saved in file: model.ckpt\n"
     ]
    }
   ],
   "source": [
    "tf.reset_default_graph()\n",
    "\n",
    "with tf.Session() as sess:\n",
    "    #   with tf.device(\"/cpu:0\"):   \n",
    "\n",
    "    batch_size=64\n",
    "    max_length=30\n",
    "\n",
    "    model = VAE(vocabulary=vocabulary_e, batch_size=batch_size, \n",
    "              emb_dim=64, rnn_dim=128, z_dim=64, context='gate')\n",
    "    trainer = VAETrainer(model, train_e_path, train_f_path,\n",
    "                         dev_e_path, dev_f_path, dev_wa,\n",
    "                         test_e_path, test_f_path, test_wa,\n",
    "                         num_epochs=10, \n",
    "                         batch_size=batch_size, max_length=max_length,\n",
    "                         lr=0.001, lr_decay=0.0, session=sess,\n",
    "                         max_num=2000) # small training corpus just to make testing new code easier\n",
    "\n",
    "    print(\"Initializing variables..\")\n",
    "    sess.run(tf.global_variables_initializer())\n",
    "\n",
    "    print(\"Training started..\")\n",
    "    results = trainer.train()\n",
    "    dev_AERs, test_AERs, train_ELBOs, dev_ELBOs = results\n"
   ]
  },
  {
   "cell_type": "markdown",
   "metadata": {},
   "source": [
    "### Plots"
   ]
  },
  {
   "cell_type": "code",
   "execution_count": 87,
   "metadata": {
    "collapsed": false
   },
   "outputs": [
    {
     "data": {
      "image/png": "[encoded data removed]",
      "text/plain": [
       "<matplotlib.figure.Figure at 0x13242b438>"
      ]
     },
     "metadata": {},
     "output_type": "display_data"
    },
    {
     "data": {
      "image/png": "[encoded data removed]",
      "text/plain": [
       "<matplotlib.figure.Figure at 0x13242b8d0>"
      ]
     },
     "metadata": {},
     "output_type": "display_data"
    }
   ],
   "source": [
    "# plotting\n",
    "import matplotlib.pyplot as plt\n",
    "\n",
    "# handles = []\n",
    "# ax1 = plt.plot(range(1, len(dev_AERs)+1), dev_AERs, label='dev-set')\n",
    "# handles.extend(ax1)\n",
    "# ax2 = plt.plot(range(1, len(test_AERs)+1), test_AERs, label='test-set')\n",
    "# handles.extend(ax2)\n",
    "# plt.legend(handles=handles)\n",
    "# plt.xlabel('Epochs')\n",
    "# plt.ylabel('AER')\n",
    "# plt.show()\n",
    "# plt.clf()\n",
    "\n",
    "handles = []\n",
    "ax1 = plt.plot(range(1, len(train_ELBOs)+1), train_ELBOs, label='training-set')\n",
    "handles.extend(ax1)\n",
    "plt.legend(handles=handles)\n",
    "plt.xlabel('Epochs')\n",
    "plt.ylabel('ELBO')\n",
    "plt.show()\n",
    "plt.clf()\n",
    "\n",
    "handles = []\n",
    "ax1 = plt.plot(range(1, len(dev_ELBOs)+1), dev_ELBOs, label='dev-set')\n",
    "handles.extend(ax1)\n",
    "plt.legend(handles=handles)\n",
    "plt.xlabel('Epochs')\n",
    "plt.ylabel('ELBO')\n",
    "plt.show()\n",
    "plt.clf()"
   ]
  },
  {
   "cell_type": "markdown",
   "metadata": {},
   "source": [
    "## Neural IBM1 withouth French context\n",
    "\n",
    "For comparison purposes we include the results of the originial neural IBM1."
   ]
  },
  {
   "cell_type": "code",
   "execution_count": 33,
   "metadata": {
    "collapsed": false,
    "scrolled": false
   },
   "outputs": [],
   "source": [
    "from neuralibm1 import NeuralIBM1Model\n",
    "from neuralibm1trainer import NeuralIBM1Trainer"
   ]
  },
  {
   "cell_type": "code",
   "execution_count": 34,
   "metadata": {
    "collapsed": false
   },
   "outputs": [
    {
     "name": "stdout",
     "output_type": "stream",
     "text": [
      "Training with B=10 max_length=30 lr=0.001 lr_decay=0.0\n",
      "Initializing variables..\n",
      "Training started..\n",
      "Shuffling training data\n",
      "Iter   100 loss 66.535721 accuracy 0.22 lr 0.001000\n",
      "Iter   200 loss 58.521881 accuracy 0.22 lr 0.001000\n",
      "Iter   300 loss 64.783844 accuracy 0.20 lr 0.001000\n",
      "Iter   400 loss 43.832909 accuracy 0.24 lr 0.001000\n",
      "Iter   500 loss 55.865246 accuracy 0.20 lr 0.001000\n",
      "Iter   600 loss 69.351669 accuracy 0.21 lr 0.001000\n",
      "Iter   700 loss 54.295448 accuracy 0.24 lr 0.001000\n",
      "Epoch 1 loss 64.711381 accuracy 0.19 val_aer 0.65 val_acc 0.19\n",
      "Computing training-set likelihood\n",
      "Computing dev-set likelihood\n",
      "Model saved in file: model.ckpt\n",
      "Shuffling training data\n",
      "Iter   100 loss 71.635216 accuracy 0.17 lr 0.001000\n",
      "Iter   200 loss 75.882431 accuracy 0.16 lr 0.001000\n",
      "Iter   300 loss 60.810463 accuracy 0.15 lr 0.001000\n",
      "Iter   400 loss 70.482773 accuracy 0.22 lr 0.001000\n",
      "Iter   500 loss 61.605980 accuracy 0.12 lr 0.001000\n",
      "Iter   600 loss 56.401680 accuracy 0.22 lr 0.001000\n",
      "Iter   700 loss 68.715462 accuracy 0.17 lr 0.001000\n",
      "Epoch 2 loss 59.268354 accuracy 0.20 val_aer 0.50 val_acc 0.19\n",
      "Computing training-set likelihood\n",
      "Computing dev-set likelihood\n",
      "Model saved in file: model.ckpt\n",
      "Shuffling training data\n",
      "Iter   100 loss 53.513924 accuracy 0.26 lr 0.001000\n",
      "Iter   200 loss 63.500294 accuracy 0.19 lr 0.001000\n",
      "Iter   300 loss 31.956467 accuracy 0.27 lr 0.001000\n",
      "Iter   400 loss 51.828003 accuracy 0.16 lr 0.001000\n",
      "Iter   500 loss 52.640923 accuracy 0.23 lr 0.001000\n",
      "Iter   600 loss 55.314232 accuracy 0.21 lr 0.001000\n",
      "Iter   700 loss 46.725441 accuracy 0.15 lr 0.001000\n",
      "Epoch 3 loss 55.387350 accuracy 0.20 val_aer 0.47 val_acc 0.18\n",
      "Computing training-set likelihood\n",
      "Computing dev-set likelihood\n",
      "Model saved in file: model.ckpt\n",
      "Shuffling training data\n",
      "Iter   100 loss 49.117290 accuracy 0.22 lr 0.001000\n",
      "Iter   200 loss 37.526604 accuracy 0.30 lr 0.001000\n",
      "Iter   300 loss 55.974937 accuracy 0.18 lr 0.001000\n",
      "Iter   400 loss 55.022839 accuracy 0.18 lr 0.001000\n",
      "Iter   500 loss 62.016350 accuracy 0.22 lr 0.001000\n",
      "Iter   600 loss 47.577923 accuracy 0.22 lr 0.001000\n",
      "Iter   700 loss 65.383156 accuracy 0.20 lr 0.001000\n",
      "Epoch 4 loss 52.978881 accuracy 0.20 val_aer 0.47 val_acc 0.19\n",
      "Computing training-set likelihood\n",
      "Computing dev-set likelihood\n",
      "Model saved in file: model.ckpt\n",
      "Shuffling training data\n",
      "Iter   100 loss 60.194649 accuracy 0.20 lr 0.001000\n",
      "Iter   200 loss 73.500534 accuracy 0.16 lr 0.001000\n",
      "Iter   300 loss 62.530457 accuracy 0.21 lr 0.001000\n",
      "Iter   400 loss 48.294594 accuracy 0.19 lr 0.001000\n",
      "Iter   500 loss 56.556171 accuracy 0.21 lr 0.001000\n",
      "Iter   600 loss 27.694839 accuracy 0.24 lr 0.001000\n",
      "Iter   700 loss 40.224411 accuracy 0.23 lr 0.001000\n",
      "Epoch 5 loss 51.808361 accuracy 0.20 val_aer 0.46 val_acc 0.19\n",
      "Computing training-set likelihood\n",
      "Computing dev-set likelihood\n",
      "Model saved in file: model.ckpt\n",
      "Shuffling training data\n",
      "Iter   100 loss 60.489021 accuracy 0.18 lr 0.001000\n",
      "Iter   200 loss 37.932812 accuracy 0.26 lr 0.001000\n",
      "Iter   300 loss 69.313225 accuracy 0.12 lr 0.001000\n",
      "Iter   400 loss 44.604919 accuracy 0.19 lr 0.001000\n",
      "Iter   500 loss 62.414062 accuracy 0.20 lr 0.001000\n",
      "Iter   600 loss 53.075279 accuracy 0.25 lr 0.001000\n",
      "Iter   700 loss 46.173912 accuracy 0.17 lr 0.001000\n",
      "Epoch 6 loss 51.194974 accuracy 0.20 val_aer 0.46 val_acc 0.19\n",
      "Computing training-set likelihood\n",
      "Computing dev-set likelihood\n",
      "Model saved in file: model.ckpt\n",
      "Shuffling training data\n",
      "Iter   100 loss 48.602268 accuracy 0.20 lr 0.001000\n",
      "Iter   200 loss 52.079517 accuracy 0.13 lr 0.001000\n",
      "Iter   300 loss 24.651201 accuracy 0.33 lr 0.001000\n",
      "Iter   400 loss 62.388561 accuracy 0.24 lr 0.001000\n",
      "Iter   500 loss 58.951252 accuracy 0.15 lr 0.001000\n",
      "Iter   600 loss 64.972420 accuracy 0.15 lr 0.001000\n",
      "Iter   700 loss 42.314991 accuracy 0.18 lr 0.001000\n",
      "Epoch 7 loss 50.786725 accuracy 0.20 val_aer 0.46 val_acc 0.19\n",
      "Computing training-set likelihood\n",
      "Computing dev-set likelihood\n",
      "Model saved in file: model.ckpt\n",
      "Shuffling training data\n",
      "Iter   100 loss 54.185406 accuracy 0.18 lr 0.001000\n",
      "Iter   200 loss 61.922401 accuracy 0.20 lr 0.001000\n",
      "Iter   300 loss 60.227978 accuracy 0.18 lr 0.001000\n",
      "Iter   400 loss 42.558392 accuracy 0.20 lr 0.001000\n",
      "Iter   500 loss 48.098724 accuracy 0.19 lr 0.001000\n",
      "Iter   600 loss 45.054222 accuracy 0.17 lr 0.001000\n",
      "Iter   700 loss 58.993877 accuracy 0.23 lr 0.001000\n",
      "Epoch 8 loss 50.520740 accuracy 0.20 val_aer 0.45 val_acc 0.19\n",
      "Computing training-set likelihood\n",
      "Computing dev-set likelihood\n",
      "Model saved in file: model.ckpt\n",
      "Shuffling training data\n",
      "Iter   100 loss 62.143394 accuracy 0.21 lr 0.001000\n",
      "Iter   200 loss 67.197281 accuracy 0.20 lr 0.001000\n",
      "Iter   300 loss 56.613964 accuracy 0.24 lr 0.001000\n",
      "Iter   400 loss 52.243141 accuracy 0.22 lr 0.001000\n",
      "Iter   500 loss 50.597649 accuracy 0.17 lr 0.001000\n",
      "Iter   600 loss 69.528275 accuracy 0.15 lr 0.001000\n",
      "Iter   700 loss 55.740356 accuracy 0.12 lr 0.001000\n",
      "Epoch 9 loss 50.254553 accuracy 0.20 val_aer 0.46 val_acc 0.19\n",
      "Computing training-set likelihood\n",
      "Computing dev-set likelihood\n",
      "Model saved in file: model.ckpt\n",
      "Shuffling training data\n",
      "Iter   100 loss 46.317146 accuracy 0.16 lr 0.001000\n",
      "Iter   200 loss 52.693291 accuracy 0.14 lr 0.001000\n",
      "Iter   300 loss 68.227661 accuracy 0.15 lr 0.001000\n",
      "Iter   400 loss 59.578041 accuracy 0.17 lr 0.001000\n",
      "Iter   500 loss 57.947315 accuracy 0.19 lr 0.001000\n",
      "Iter   600 loss 43.899239 accuracy 0.19 lr 0.001000\n",
      "Iter   700 loss 45.777172 accuracy 0.24 lr 0.001000\n",
      "Epoch 10 loss 50.075627 accuracy 0.20 val_aer 0.45 val_acc 0.19\n",
      "Computing training-set likelihood\n",
      "Computing dev-set likelihood\n",
      "Model saved in file: model.ckpt\n"
     ]
    }
   ],
   "source": [
    "tf.reset_default_graph()\n",
    "\n",
    "\n",
    "with tf.Session() as sess:\n",
    "\n",
    "    # some hyper-parameters\n",
    "    # tweak them as you wish\n",
    "    batch_size=10  # on CPU, use something much smaller e.g. 1-16\n",
    "    max_length=30\n",
    "    lr = 0.001\n",
    "    lr_decay = 0.0  # set to 0.0 when using Adam optimizer (default)\n",
    "    emb_dim = 64\n",
    "    mlp_dim = 128\n",
    "\n",
    "    # our model\n",
    "    model = NeuralIBM1Model(\n",
    "        x_vocabulary=vocabulary_e, y_vocabulary=vocabulary_f, \n",
    "        batch_size=batch_size, emb_dim=emb_dim, mlp_dim=mlp_dim, session=sess)\n",
    "\n",
    "    # our trainer\n",
    "    trainer = NeuralIBM1Trainer(\n",
    "        model, train_e_path, train_f_path, \n",
    "        dev_e_path, dev_f_path, dev_wa,\n",
    "        test_e_path, test_f_path, test_wa,\n",
    "        num_epochs=10, batch_size=batch_size, \n",
    "        max_length=max_length, lr=lr, lr_decay=lr_decay, session=sess,\n",
    "        max_num=10000) # small training corpus just to make testing new code easier\n",
    "\n",
    "    # now first TF needs to initialize all the variables\n",
    "    print(\"Initializing variables..\")\n",
    "    sess.run(tf.global_variables_initializer())\n",
    "\n",
    "\n",
    "    # now we can start training!\n",
    "    print(\"Training started..\")\n",
    "    results = trainer.train()\n",
    "    dev_AERs, test_AERs, train_likelihoods, dev_likelihoods = results"
   ]
  },
  {
   "cell_type": "markdown",
   "metadata": {},
   "source": [
    "### Plots"
   ]
  },
  {
   "cell_type": "code",
   "execution_count": 35,
   "metadata": {
    "collapsed": false
   },
   "outputs": [
    {
     "data": {
      "image/png": "[encoded data removed]",
      "text/plain": [
       "<matplotlib.figure.Figure at 0x124f32278>"
      ]
     },
     "metadata": {},
     "output_type": "display_data"
    },
    {
     "data": {
      "image/png": "[encoded data removed]",
      "text/plain": [
       "<matplotlib.figure.Figure at 0x120d35550>"
      ]
     },
     "metadata": {},
     "output_type": "display_data"
    },
    {
     "data": {
      "image/png": "[encoded data removed]",
      "text/plain": [
       "<matplotlib.figure.Figure at 0x12a072748>"
      ]
     },
     "metadata": {},
     "output_type": "display_data"
    }
   ],
   "source": [
    "# plotting\n",
    "import matplotlib.pyplot as plt\n",
    "\n",
    "handles = []\n",
    "ax1 = plt.plot(range(1, len(dev_AERs)+1), dev_AERs, label='dev-set')\n",
    "handles.extend(ax1)\n",
    "ax2 = plt.plot(range(1, len(test_AERs)+1), test_AERs, label='test-set')\n",
    "handles.extend(ax2)\n",
    "plt.legend(handles=handles)\n",
    "plt.xlabel('Epochs')\n",
    "plt.ylabel('AER')\n",
    "plt.show()\n",
    "plt.clf()\n",
    "\n",
    "handles = []\n",
    "ax1 = plt.plot(range(1, len(train_likelihoods)+1), train_likelihoods, label='training-set')\n",
    "handles.extend(ax1)\n",
    "plt.legend(handles=handles)\n",
    "plt.xlabel('Epochs')\n",
    "plt.ylabel('log-likelihood')\n",
    "plt.show()\n",
    "plt.clf()\n",
    "\n",
    "handles = []\n",
    "ax1 = plt.plot(range(1, len(dev_likelihoods)+1), dev_likelihoods, label='dev-set')\n",
    "handles.extend(ax1)\n",
    "plt.legend(handles=handles)\n",
    "plt.xlabel('Epochs')\n",
    "plt.ylabel('log-likelihood')\n",
    "plt.show()\n",
    "plt.clf()"
   ]
  },
  {
   "cell_type": "code",
   "execution_count": null,
   "metadata": {
    "collapsed": true
   },
   "outputs": [],
   "source": []
  }
 ],
 "metadata": {
  "kernelspec": {
   "display_name": "Python 3",
   "language": "python",
   "name": "python3"
  },
  "language_info": {
   "codemirror_mode": {
    "name": "ipython",
    "version": 3
   },
   "file_extension": ".py",
   "mimetype": "text/x-python",
   "name": "python",
   "nbconvert_exporter": "python",
   "pygments_lexer": "ipython3",
   "version": "3.6.0"
  }
 },
 "nbformat": 4,
 "nbformat_minor": 1
}
